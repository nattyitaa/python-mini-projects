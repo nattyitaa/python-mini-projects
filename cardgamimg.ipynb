{
  "nbformat": 4,
  "nbformat_minor": 0,
  "metadata": {
    "colab": {
      "name": "Untitled20.ipynb",
      "provenance": [],
      "authorship_tag": "ABX9TyMboynkXhvw4a5GfRCWhF/O",
      "include_colab_link": true
    },
    "kernelspec": {
      "name": "python3",
      "display_name": "Python 3"
    },
    "language_info": {
      "name": "python"
    }
  },
  "cells": [
    {
      "cell_type": "markdown",
      "metadata": {
        "id": "view-in-github",
        "colab_type": "text"
      },
      "source": [
        "<a href=\"https://colab.research.google.com/github/nattyitaa/python-mini-projects/blob/main/cardgamimg.ipynb\" target=\"_parent\"><img src=\"https://colab.research.google.com/assets/colab-badge.svg\" alt=\"Open In Colab\"/></a>"
      ]
    },
    {
      "cell_type": "code",
      "execution_count": 1,
      "metadata": {
        "id": "rqrDz4qP4k2I"
      },
      "outputs": [],
      "source": [
        "class Card:\n",
        "    suits = [\"spades\",\n",
        "             \"hearts\",\n",
        "             \"diamonds\",\n",
        "             \"clubs\"]\n",
        "    \n",
        "    values = [None, None,\"2\", \"3\",\n",
        "              \"4\", \"5\", \"6\", \"7\",\n",
        "              \"8\", \"9\", \"10\",\n",
        "              \"Jack\", \"Queen\",\n",
        "              \"King\", \"Ace\"]\n",
        "\n",
        "    def __init__(self, v, s):\n",
        "        \"\"\"suit + value are ints\"\"\"\n",
        "        self.value = v\n",
        "        self.suit = s\n",
        "\n",
        "    def __lt__(self, c2):\n",
        "        if self.value < c2.value:\n",
        "            return True\n",
        "        if self.value == c2.value:\n",
        "            if self.suit < c2.suit:\n",
        "                return True\n",
        "            else:\n",
        "                return False\n",
        "        return False\n",
        "\n",
        "    def __gt__(self, c2):\n",
        "        if self.value > c2.value:\n",
        "            return True\n",
        "        if self.value == c2.value:\n",
        "            if self.suit > c2.suit:\n",
        "                return True\n",
        "            else:\n",
        "                return False\n",
        "        return False\n",
        "\n",
        "    def __repr__(self):\n",
        "        v = self.values[self.value] +\\\n",
        "            \" of \" + \\\n",
        "            self.suits[self.suit]\n",
        "        return v"
      ]
    },
    {
      "cell_type": "code",
      "source": [
        "from random import shuffle\n",
        "\n",
        "\n",
        "class Deck:\n",
        "    def __init__(self):\n",
        "        self.cards = []\n",
        "        for i in range(2, 15):\n",
        "            for j in range(4):\n",
        "                self.cards\\\n",
        "                    .append(Card(i,\n",
        "                                 j))\n",
        "        shuffle(self.cards)\n",
        "\n",
        "    def rm_card(self):\n",
        "        if len(self.cards) == 0:\n",
        "            return\n",
        "        return self.cards.pop()"
      ],
      "metadata": {
        "id": "x8srMmGn41Jn"
      },
      "execution_count": 2,
      "outputs": []
    },
    {
      "cell_type": "code",
      "source": [
        "class Player:\n",
        "   def __init__(self, name):\n",
        "       self.wins = 0\n",
        "       self.card = None\n",
        "       self.name = name"
      ],
      "metadata": {
        "id": "Q-uydfb4427_"
      },
      "execution_count": 3,
      "outputs": []
    },
    {
      "cell_type": "code",
      "source": [
        "class Game:\n",
        "    def __init__(self):\n",
        "        name1 = input(\"p1 name \")\n",
        "        name2 = input(\"p2 name \")\n",
        "        self.deck = Deck()\n",
        "        self.p1 = Player(name1)\n",
        "        self.p2 = Player(name2)\n",
        "\n",
        "    def wins(self, winner):\n",
        "        w = \"{} wins this round\"\n",
        "        w = w.format(winner)\n",
        "        print(w)\n",
        "\n",
        "    def draw(self, p1n, p1c, p2n, p2c):\n",
        "        d = \"{} drew {} {} drew {}\"\n",
        "        d = d.format(p1n,\n",
        "                     p1c,\n",
        "                     p2n,\n",
        "                     p2c)\n",
        "        print(d)\n",
        "\n",
        "    def play_game(self):\n",
        "        cards = self.deck.cards\n",
        "        print(\"beginning War!\")\n",
        "        while len(cards) >= 2:\n",
        "            m = \"q to quit. Any \" + \\\n",
        "                \"key to play:\"\n",
        "            response = input(m)\n",
        "            if response == 'q':\n",
        "                break\n",
        "            p1c = self.deck.rm_card()\n",
        "            p2c = self.deck.rm_card()\n",
        "            p1n = self.p1.name\n",
        "            p2n = self.p2.name\n",
        "            self.draw(p1n,\n",
        "                      p1c,\n",
        "                      p2n,\n",
        "                      p2c)\n",
        "            if p1c > p2c:\n",
        "                self.p1.wins += 1\n",
        "                self.wins(self.p1.name)\n",
        "            else:\n",
        "                self.p2.wins += 1\n",
        "                self.wins(self.p2.name)\n",
        "\n",
        "        win = self.winner(self.p1,\n",
        "                         self.p2)\n",
        "        print(\"War is over.{} wins\"\n",
        "              .format(win))\n",
        "\n",
        "    def winner(self, p1, p2):\n",
        "        if p1.wins > p2.wins:\n",
        "            return p1.name\n",
        "        if p1.wins < p2.wins:\n",
        "            return p2.name\n",
        "        return \"It was a tie!\""
      ],
      "metadata": {
        "id": "gAjY__PG5C5_"
      },
      "execution_count": 4,
      "outputs": []
    }
  ]
}