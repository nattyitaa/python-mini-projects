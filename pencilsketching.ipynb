{
  "cells": [
    {
      "cell_type": "markdown",
      "metadata": {
        "id": "view-in-github",
        "colab_type": "text"
      },
      "source": [
        "<a href=\"https://colab.research.google.com/github/nattyitaa/python-mini-projects/blob/main/pencilsketching.ipynb\" target=\"_parent\"><img src=\"https://colab.research.google.com/assets/colab-badge.svg\" alt=\"Open In Colab\"/></a>"
      ]
    },
    {
      "cell_type": "code",
      "execution_count": null,
      "metadata": {
        "id": "kUoW-ELzzQgw"
      },
      "outputs": [],
      "source": [
        "from google.colab.patches import cv2_imshow\n",
        "import cv2"
      ]
    },
    {
      "cell_type": "code",
      "source": [
        "image = cv2.imread(\"/content/dongsh-eYoIHeMC6Mo-unsplash.jpg\")\n",
        "cv2_imshow(image)\n",
        "cv2.waitKey(0)"
      ],
      "metadata": {
        "id": "vq2xKl3130su"
      },
      "execution_count": null,
      "outputs": []
    },
    {
      "cell_type": "code",
      "execution_count": null,
      "metadata": {
        "id": "LbBwjlGx1oLL"
      },
      "outputs": [],
      "source": [
        "gray_image = cv2.cvtColor(image, cv2.COLOR_BGR2GRAY)\n",
        "cv2_imshow( gray_image)\n",
        "cv2.waitKey(0)"
      ]
    },
    {
      "cell_type": "code",
      "execution_count": null,
      "metadata": {
        "id": "KZQZi9NH2Cvv"
      },
      "outputs": [],
      "source": [
        "inverted_image = 255 - gray_image\n",
        "cv2_imshow(inverted_image)\n",
        "cv2.waitKey()"
      ]
    },
    {
      "cell_type": "code",
      "execution_count": null,
      "metadata": {
        "id": "tOfBc_JQ2IQc"
      },
      "outputs": [],
      "source": [
        "blurred = cv2.GaussianBlur(inverted_image, (21, 21), 0)"
      ]
    },
    {
      "cell_type": "code",
      "execution_count": null,
      "metadata": {
        "id": "d778MlCS2POT"
      },
      "outputs": [],
      "source": [
        "inverted_blurred = 255 - blurred\n",
        "pencil_sketch = cv2.divide(gray_image, inverted_blurred, scale=256.0)\n",
        "cv2_imshow( pencil_sketch)\n",
        "cv2.waitKey(0)"
      ]
    },
    {
      "cell_type": "code",
      "execution_count": null,
      "metadata": {
        "id": "-mxJx2Zq2Xue"
      },
      "outputs": [],
      "source": [
        "cv2_imshow( image)\n",
        "cv2_imshow( pencil_sketch)\n",
        "cv2.waitKey(0)"
      ]
    }
  ],
  "metadata": {
    "colab": {
      "name": "Untitled19.ipynb",
      "provenance": [],
      "collapsed_sections": [],
      "authorship_tag": "ABX9TyMXz6MZRMp5PC3KGXsiQTfk",
      "include_colab_link": true
    },
    "kernelspec": {
      "display_name": "Python 3",
      "name": "python3"
    },
    "language_info": {
      "name": "python"
    }
  },
  "nbformat": 4,
  "nbformat_minor": 0
}